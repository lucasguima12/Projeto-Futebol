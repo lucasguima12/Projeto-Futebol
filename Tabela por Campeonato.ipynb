{
 "cells": [
  {
   "cell_type": "code",
   "execution_count": 22,
   "id": "c9845b75",
   "metadata": {},
   "outputs": [],
   "source": [
    "import json\n",
    "import pandas as pd\n",
    "import http.client\n",
    "from pandas import json_normalize"
   ]
  },
  {
   "cell_type": "code",
   "execution_count": 15,
   "id": "ad787466",
   "metadata": {},
   "outputs": [],
   "source": [
    "dataframes_list = []\n",
    "def standings():\n",
    "    lista_id = [39,71,78, 61, 135, 307, 866, 128, 140 ]\n",
    "    for id_liga in lista_id:\n",
    "        conn = http.client.HTTPSConnection(\"api-football-v1.p.rapidapi.com\")\n",
    "\n",
    "        headers = {\n",
    "            'X-RapidAPI-Key': \"1fbf96808emshacec9ff25496937p10c070jsn2d5baedc8b83\",\n",
    "            'X-RapidAPI-Host': \"api-football-v1.p.rapidapi.com\"\n",
    "        }\n",
    "\n",
    "        conn.request(\"GET\", f\"/v3/leagues?id={id_liga}&season=2020\", headers=headers)\n",
    "\n",
    "        res = conn.getresponse()\n",
    "        data = res.read()\n",
    "        estatisicas_time = json.loads(data.decode(\"utf-8\"))\n",
    "        # Check if the 'response' key is in the dictionary\n",
    "        if 'response' in estatisicas_time:\n",
    "            # Normalize the 'response' data and append the DataFrame to the list\n",
    "            df_estatisticas = pd.json_normalize(estatisicas_time['response'])\n",
    "            dataframes_list.append(df_estatisticas)\n",
    "    # Concatenate all the DataFrames into one\n",
    "    df_jogadores = pd.concat(dataframes_list, ignore_index=True)\n",
    "\n",
    "    return df_jogadores\n"
   ]
  },
  {
   "cell_type": "code",
   "execution_count": 16,
   "id": "589a1dcf",
   "metadata": {},
   "outputs": [],
   "source": [
    "df_standings = standings()"
   ]
  },
  {
   "cell_type": "code",
   "execution_count": 27,
   "id": "7840809d",
   "metadata": {},
   "outputs": [],
   "source": [
    "conn = http.client.HTTPSConnection(\"api-football-v1.p.rapidapi.com\")\n",
    "\n",
    "headers = {\n",
    "    'X-RapidAPI-Key': \"1fbf96808emshacec9ff25496937p10c070jsn2d5baedc8b83\",\n",
    "    'X-RapidAPI-Host': \"api-football-v1.p.rapidapi.com\"\n",
    "}\n",
    "\n",
    "conn.request(\"GET\", f\"/v3/leagues?id=71&season=2020\", headers=headers)\n",
    "\n",
    "res = conn.getresponse()\n",
    "data = res.read()\n",
    "estatisicas_time = json.loads(data.decode(\"utf-8\"))"
   ]
  },
  {
   "cell_type": "code",
   "execution_count": 29,
   "id": "8a38fd46",
   "metadata": {},
   "outputs": [],
   "source": [
    "df_estatisticas = pd.json_normalize(estatisicas_time['response'])"
   ]
  },
  {
   "cell_type": "code",
   "execution_count": 30,
   "id": "67d92f92",
   "metadata": {},
   "outputs": [
    {
     "data": {
      "text/html": [
       "<div>\n",
       "<style scoped>\n",
       "    .dataframe tbody tr th:only-of-type {\n",
       "        vertical-align: middle;\n",
       "    }\n",
       "\n",
       "    .dataframe tbody tr th {\n",
       "        vertical-align: top;\n",
       "    }\n",
       "\n",
       "    .dataframe thead th {\n",
       "        text-align: right;\n",
       "    }\n",
       "</style>\n",
       "<table border=\"1\" class=\"dataframe\">\n",
       "  <thead>\n",
       "    <tr style=\"text-align: right;\">\n",
       "      <th></th>\n",
       "      <th>seasons</th>\n",
       "      <th>league.id</th>\n",
       "      <th>league.name</th>\n",
       "      <th>league.type</th>\n",
       "      <th>league.logo</th>\n",
       "      <th>country.name</th>\n",
       "      <th>country.code</th>\n",
       "      <th>country.flag</th>\n",
       "    </tr>\n",
       "  </thead>\n",
       "  <tbody>\n",
       "    <tr>\n",
       "      <th>0</th>\n",
       "      <td>[{'year': 2020, 'start': '2020-08-08', 'end': ...</td>\n",
       "      <td>71</td>\n",
       "      <td>Serie A</td>\n",
       "      <td>League</td>\n",
       "      <td>https://media-4.api-sports.io/football/leagues...</td>\n",
       "      <td>Brazil</td>\n",
       "      <td>BR</td>\n",
       "      <td>https://media-4.api-sports.io/flags/br.svg</td>\n",
       "    </tr>\n",
       "  </tbody>\n",
       "</table>\n",
       "</div>"
      ],
      "text/plain": [
       "                                             seasons  league.id league.name  \\\n",
       "0  [{'year': 2020, 'start': '2020-08-08', 'end': ...         71     Serie A   \n",
       "\n",
       "  league.type                                        league.logo country.name  \\\n",
       "0      League  https://media-4.api-sports.io/football/leagues...       Brazil   \n",
       "\n",
       "  country.code                                country.flag  \n",
       "0           BR  https://media-4.api-sports.io/flags/br.svg  "
      ]
     },
     "execution_count": 30,
     "metadata": {},
     "output_type": "execute_result"
    }
   ],
   "source": [
    "df_estatisticas"
   ]
  },
  {
   "cell_type": "code",
   "execution_count": 31,
   "id": "4b491456",
   "metadata": {},
   "outputs": [
    {
     "data": {
      "text/plain": [
       "{'get': 'leagues',\n",
       " 'parameters': {'id': '71', 'season': '2020'},\n",
       " 'errors': [],\n",
       " 'results': 1,\n",
       " 'paging': {'current': 1, 'total': 1},\n",
       " 'response': [{'league': {'id': 71,\n",
       "    'name': 'Serie A',\n",
       "    'type': 'League',\n",
       "    'logo': 'https://media-4.api-sports.io/football/leagues/71.png'},\n",
       "   'country': {'name': 'Brazil',\n",
       "    'code': 'BR',\n",
       "    'flag': 'https://media-4.api-sports.io/flags/br.svg'},\n",
       "   'seasons': [{'year': 2020,\n",
       "     'start': '2020-08-08',\n",
       "     'end': '2021-02-26',\n",
       "     'current': False,\n",
       "     'coverage': {'fixtures': {'events': True,\n",
       "       'lineups': True,\n",
       "       'statistics_fixtures': True,\n",
       "       'statistics_players': True},\n",
       "      'standings': True,\n",
       "      'players': True,\n",
       "      'top_scorers': True,\n",
       "      'top_assists': True,\n",
       "      'top_cards': True,\n",
       "      'injuries': False,\n",
       "      'predictions': True,\n",
       "      'odds': False}}]}]}"
      ]
     },
     "execution_count": 31,
     "metadata": {},
     "output_type": "execute_result"
    }
   ],
   "source": [
    "estatisicas_time"
   ]
  },
  {
   "cell_type": "code",
   "execution_count": null,
   "id": "6880758f",
   "metadata": {},
   "outputs": [],
   "source": []
  }
 ],
 "metadata": {
  "kernelspec": {
   "display_name": "Python 3 (ipykernel)",
   "language": "python",
   "name": "python3"
  },
  "language_info": {
   "codemirror_mode": {
    "name": "ipython",
    "version": 3
   },
   "file_extension": ".py",
   "mimetype": "text/x-python",
   "name": "python",
   "nbconvert_exporter": "python",
   "pygments_lexer": "ipython3",
   "version": "3.11.5"
  }
 },
 "nbformat": 4,
 "nbformat_minor": 5
}
