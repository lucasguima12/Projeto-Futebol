{
 "cells": [
  {
   "cell_type": "code",
   "execution_count": 9,
   "id": "3a35ee43",
   "metadata": {},
   "outputs": [],
   "source": [
    "import pandas as pd\n",
    "import http.client\n",
    "import json\n",
    "from datetime import datetime"
   ]
  },
  {
   "cell_type": "code",
   "execution_count": 10,
   "id": "3e882adc",
   "metadata": {},
   "outputs": [],
   "source": [
    "conn = http.client.HTTPSConnection(\"api-football-v1.p.rapidapi.com\")\n",
    "headers = {\n",
    "    'X-RapidAPI-Key': \"1fbf96808emshacec9ff25496937p10c070jsn2d5baedc8b83\",\n",
    "    'X-RapidAPI-Host': \"api-football-v1.p.rapidapi.com\"\n",
    "}\n",
    "conn.request(\"GET\", \"/v3/fixtures?league=71&season=2023\", headers=headers)\n",
    "res = conn.getresponse()\n",
    "data = res.read()\n",
    "\n",
    "# Decode the byte string to a UTF-8 string\n",
    "data_str = data.decode('utf-8')\n",
    "\n",
    "# Parse the JSON data into a Python dictionary\n",
    "data_dict = json.loads(data_str)\n",
    "\n",
    "# Assuming the 'response' key contains a list of fixtures\n",
    "df = pd.json_normalize(data_dict['response'])\n",
    "\n",
    "# Filtrar pela 19ª rodada\n",
    "rodada_19 = df[df['league.round'] == 'Regular Season - 19']\n",
    "\n",
    "# Encontrar a data do último jogo\n",
    "data_final = rodada_19['fixture.date'].max()\n",
    "\n",
    "data_obj = datetime.fromisoformat(data_final)\n",
    "\n",
    "# Formatando a data no formato 'yyyy-mm-dd'\n",
    "data_formatada = data_obj.strftime('%Y-%m-%d')\n",
    "\n",
    "\n",
    "    "
   ]
  },
  {
   "cell_type": "code",
   "execution_count": 11,
   "id": "913a75ca",
   "metadata": {},
   "outputs": [
    {
     "data": {
      "text/plain": [
       "'2023-08-15'"
      ]
     },
     "execution_count": 11,
     "metadata": {},
     "output_type": "execute_result"
    }
   ],
   "source": [
    "data_formatada"
   ]
  },
  {
   "cell_type": "code",
   "execution_count": null,
   "id": "32c46d19",
   "metadata": {},
   "outputs": [],
   "source": []
  }
 ],
 "metadata": {
  "kernelspec": {
   "display_name": "Python 3 (ipykernel)",
   "language": "python",
   "name": "python3"
  },
  "language_info": {
   "codemirror_mode": {
    "name": "ipython",
    "version": 3
   },
   "file_extension": ".py",
   "mimetype": "text/x-python",
   "name": "python",
   "nbconvert_exporter": "python",
   "pygments_lexer": "ipython3",
   "version": "3.11.5"
  }
 },
 "nbformat": 4,
 "nbformat_minor": 5
}
